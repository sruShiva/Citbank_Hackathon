{
 "cells": [
  {
   "cell_type": "code",
   "execution_count": null,
   "id": "05d5023c",
   "metadata": {},
   "outputs": [],
   "source": [
    "#list of the gainers and losers for Nifty Securities, Nifty Next 50 Securities and for other Securities."
   ]
  },
  {
   "cell_type": "code",
   "execution_count": 79,
   "id": "161ceeac",
   "metadata": {},
   "outputs": [
    {
     "data": {
      "text/html": [
       "<div>\n",
       "<style scoped>\n",
       "    .dataframe tbody tr th:only-of-type {\n",
       "        vertical-align: middle;\n",
       "    }\n",
       "\n",
       "    .dataframe tbody tr th {\n",
       "        vertical-align: top;\n",
       "    }\n",
       "\n",
       "    .dataframe thead th {\n",
       "        text-align: right;\n",
       "    }\n",
       "</style>\n",
       "<table border=\"1\" class=\"dataframe\">\n",
       "  <thead>\n",
       "    <tr style=\"text-align: right;\">\n",
       "      <th></th>\n",
       "      <th>GAIN_LOSS</th>\n",
       "      <th>SECURITY</th>\n",
       "      <th>CLOSE_PRIC</th>\n",
       "      <th>PREV_CL_PR</th>\n",
       "      <th>PERCENT_CG</th>\n",
       "    </tr>\n",
       "  </thead>\n",
       "  <tbody>\n",
       "    <tr>\n",
       "      <th>0</th>\n",
       "      <td></td>\n",
       "      <td>Nifty 50 Sec.</td>\n",
       "      <td></td>\n",
       "      <td></td>\n",
       "      <td></td>\n",
       "    </tr>\n",
       "    <tr>\n",
       "      <th>1</th>\n",
       "      <td></td>\n",
       "      <td></td>\n",
       "      <td></td>\n",
       "      <td></td>\n",
       "      <td></td>\n",
       "    </tr>\n",
       "    <tr>\n",
       "      <th>2</th>\n",
       "      <td>G</td>\n",
       "      <td>INDUSIND BANK LIMITED</td>\n",
       "      <td>1195.7</td>\n",
       "      <td>1147.85</td>\n",
       "      <td>4.17</td>\n",
       "    </tr>\n",
       "    <tr>\n",
       "      <th>3</th>\n",
       "      <td>G</td>\n",
       "      <td>STATE BANK OF INDIA</td>\n",
       "      <td>597.1</td>\n",
       "      <td>574</td>\n",
       "      <td>4.02</td>\n",
       "    </tr>\n",
       "    <tr>\n",
       "      <th>4</th>\n",
       "      <td>G</td>\n",
       "      <td>HINDALCO  INDUSTRIES  LTD</td>\n",
       "      <td>442.95</td>\n",
       "      <td>429.55</td>\n",
       "      <td>3.12</td>\n",
       "    </tr>\n",
       "    <tr>\n",
       "      <th>...</th>\n",
       "      <td>...</td>\n",
       "      <td>...</td>\n",
       "      <td>...</td>\n",
       "      <td>...</td>\n",
       "      <td>...</td>\n",
       "    </tr>\n",
       "    <tr>\n",
       "      <th>143</th>\n",
       "      <td>L</td>\n",
       "      <td>HYBRID FINANCIAL SERVICE</td>\n",
       "      <td>25.5</td>\n",
       "      <td>26.8</td>\n",
       "      <td>-4.85</td>\n",
       "    </tr>\n",
       "    <tr>\n",
       "      <th>144</th>\n",
       "      <td>L</td>\n",
       "      <td>CONTINENTAL SEED CHEM LTD</td>\n",
       "      <td>17.7</td>\n",
       "      <td>18.6</td>\n",
       "      <td>-4.84</td>\n",
       "    </tr>\n",
       "    <tr>\n",
       "      <th>145</th>\n",
       "      <td>L</td>\n",
       "      <td>SUVEN PHARMACEUTICALS LTD</td>\n",
       "      <td>472.4</td>\n",
       "      <td>496.05</td>\n",
       "      <td>-4.77</td>\n",
       "    </tr>\n",
       "    <tr>\n",
       "      <th>146</th>\n",
       "      <td>L</td>\n",
       "      <td>SICAL LOGISTICS LIMITED</td>\n",
       "      <td>7</td>\n",
       "      <td>7.35</td>\n",
       "      <td>-4.76</td>\n",
       "    </tr>\n",
       "    <tr>\n",
       "      <th>147</th>\n",
       "      <td>L</td>\n",
       "      <td>DJ MEDIAPRINT &amp; LOG LTD</td>\n",
       "      <td>146.9</td>\n",
       "      <td>154.2</td>\n",
       "      <td>-4.73</td>\n",
       "    </tr>\n",
       "  </tbody>\n",
       "</table>\n",
       "<p>148 rows × 5 columns</p>\n",
       "</div>"
      ],
      "text/plain": [
       "    GAIN_LOSS                   SECURITY CLOSE_PRIC PREV_CL_PR PERCENT_CG\n",
       "0                          Nifty 50 Sec.                                 \n",
       "1                                                                        \n",
       "2           G      INDUSIND BANK LIMITED     1195.7    1147.85       4.17\n",
       "3           G        STATE BANK OF INDIA      597.1        574       4.02\n",
       "4           G  HINDALCO  INDUSTRIES  LTD     442.95     429.55       3.12\n",
       "..        ...                        ...        ...        ...        ...\n",
       "143         L   HYBRID FINANCIAL SERVICE       25.5       26.8      -4.85\n",
       "144         L  CONTINENTAL SEED CHEM LTD       17.7       18.6      -4.84\n",
       "145         L  SUVEN PHARMACEUTICALS LTD      472.4     496.05      -4.77\n",
       "146         L    SICAL LOGISTICS LIMITED          7       7.35      -4.76\n",
       "147         L    DJ MEDIAPRINT & LOG LTD      146.9      154.2      -4.73\n",
       "\n",
       "[148 rows x 5 columns]"
      ]
     },
     "execution_count": 79,
     "metadata": {},
     "output_type": "execute_result"
    }
   ],
   "source": [
    "import pandas as pd\n",
    "import matplotlib.pyplot as plt\n",
    "import numpy as np\n",
    "df=pd.read_csv(r\"C:\\Users\\Yatendra Singh\\Downloads\\PR261222\\Gl261222.csv\")\n",
    "df"
   ]
  },
  {
   "cell_type": "code",
   "execution_count": 6,
   "id": "117bd86d",
   "metadata": {},
   "outputs": [
    {
     "data": {
      "text/plain": [
       "(148, 5)"
      ]
     },
     "execution_count": 6,
     "metadata": {},
     "output_type": "execute_result"
    }
   ],
   "source": [
    "df.shape"
   ]
  },
  {
   "cell_type": "code",
   "execution_count": 12,
   "id": "b2665e26",
   "metadata": {},
   "outputs": [
    {
     "name": "stdout",
     "output_type": "stream",
     "text": [
      "<class 'pandas.core.series.Series'>\n",
      "RangeIndex: 148 entries, 0 to 147\n",
      "Series name: SECURITY\n",
      "Non-Null Count  Dtype \n",
      "--------------  ----- \n",
      "148 non-null    object\n",
      "dtypes: object(1)\n",
      "memory usage: 1.3+ KB\n"
     ]
    }
   ],
   "source": [
    "df['SECURITY'].info()"
   ]
  },
  {
   "cell_type": "code",
   "execution_count": 13,
   "id": "d5c55b3e",
   "metadata": {},
   "outputs": [
    {
     "data": {
      "text/plain": [
       "GAIN_LOSS     0\n",
       "SECURITY      0\n",
       "CLOSE_PRIC    0\n",
       "PREV_CL_PR    0\n",
       "PERCENT_CG    0\n",
       "dtype: int64"
      ]
     },
     "execution_count": 13,
     "metadata": {},
     "output_type": "execute_result"
    }
   ],
   "source": [
    "df.isnull().sum()"
   ]
  },
  {
   "cell_type": "code",
   "execution_count": 14,
   "id": "ebcb3649",
   "metadata": {},
   "outputs": [
    {
     "data": {
      "text/html": [
       "<div>\n",
       "<style scoped>\n",
       "    .dataframe tbody tr th:only-of-type {\n",
       "        vertical-align: middle;\n",
       "    }\n",
       "\n",
       "    .dataframe tbody tr th {\n",
       "        vertical-align: top;\n",
       "    }\n",
       "\n",
       "    .dataframe thead th {\n",
       "        text-align: right;\n",
       "    }\n",
       "</style>\n",
       "<table border=\"1\" class=\"dataframe\">\n",
       "  <thead>\n",
       "    <tr style=\"text-align: right;\">\n",
       "      <th></th>\n",
       "      <th>GAIN_LOSS</th>\n",
       "      <th>SECURITY</th>\n",
       "      <th>CLOSE_PRIC</th>\n",
       "      <th>PREV_CL_PR</th>\n",
       "      <th>PERCENT_CG</th>\n",
       "    </tr>\n",
       "  </thead>\n",
       "  <tbody>\n",
       "    <tr>\n",
       "      <th>count</th>\n",
       "      <td>148</td>\n",
       "      <td>148</td>\n",
       "      <td>148</td>\n",
       "      <td>148</td>\n",
       "      <td>148</td>\n",
       "    </tr>\n",
       "    <tr>\n",
       "      <th>unique</th>\n",
       "      <td>3</td>\n",
       "      <td>141</td>\n",
       "      <td>137</td>\n",
       "      <td>137</td>\n",
       "      <td>127</td>\n",
       "    </tr>\n",
       "    <tr>\n",
       "      <th>top</th>\n",
       "      <td>G</td>\n",
       "      <td></td>\n",
       "      <td></td>\n",
       "      <td></td>\n",
       "      <td></td>\n",
       "    </tr>\n",
       "    <tr>\n",
       "      <th>freq</th>\n",
       "      <td>90</td>\n",
       "      <td>8</td>\n",
       "      <td>11</td>\n",
       "      <td>11</td>\n",
       "      <td>11</td>\n",
       "    </tr>\n",
       "  </tbody>\n",
       "</table>\n",
       "</div>"
      ],
      "text/plain": [
       "       GAIN_LOSS SECURITY CLOSE_PRIC PREV_CL_PR PERCENT_CG\n",
       "count        148      148        148        148        148\n",
       "unique         3      141        137        137        127\n",
       "top            G                                          \n",
       "freq          90        8         11         11         11"
      ]
     },
     "execution_count": 14,
     "metadata": {},
     "output_type": "execute_result"
    }
   ],
   "source": [
    "df.describe()"
   ]
  },
  {
   "cell_type": "code",
   "execution_count": 15,
   "id": "4468724c",
   "metadata": {},
   "outputs": [
    {
     "data": {
      "text/plain": [
       "7"
      ]
     },
     "execution_count": 15,
     "metadata": {},
     "output_type": "execute_result"
    }
   ],
   "source": [
    "df['SECURITY'].duplicated().sum()"
   ]
  },
  {
   "cell_type": "code",
   "execution_count": 71,
   "id": "d5c6842a",
   "metadata": {},
   "outputs": [
    {
     "data": {
      "image/png": "[encoded data removed]",
      "text/plain": [
       "<Figure size 432x288 with 1 Axes>"
      ]
     },
     "metadata": {
      "needs_background": "light"
     },
     "output_type": "display_data"
    }
   ],
   "source": [
    "x=df['GAIN_LOSS']\n",
    "y=df['SECURITY']\n",
    "a=[]\n",
    "b=[]\n",
    "g=0\n",
    "l=0\n",
    "cgl=[]\n",
    "c1=0\n",
    "for i in x:\n",
    "    if(i=='G'):\n",
    "        a.append(df['CLOSE_PRIC'][c1])\n",
    "        b.append(df['PREV_CL_PR'][c1])\n",
    "        g=g+1\n",
    "        if l!=0:\n",
    "            cgl.append(l)\n",
    "        l=0   \n",
    "        c1=c1+1\n",
    "    elif(i=='L'):\n",
    "        a.append(df['CLOSE_PRIC'][c1])\n",
    "        b.append(df['PREV_CL_PR'][c1])\n",
    "        l=l+1\n",
    "        if g!=0:\n",
    "            cgl.append(g)\n",
    "        g=0     \n",
    "        c1=c1+1\n",
    "\n",
    "if g!=0:\n",
    "    cgl.append(g)\n",
    "if l!=0:\n",
    "    cgl.append(l)\n",
    "c=np.arange(1,len(a)+1)\n",
    "plt.plot(b,c)\n",
    "plt.xlabel('companies from 1 to 137')\n",
    "plt.ylabel('Previous Close Price')\n",
    "plt.show()"
   ]
  },
  {
   "cell_type": "code",
   "execution_count": 72,
   "id": "cd49c846",
   "metadata": {},
   "outputs": [
    {
     "data": {
      "image/png": "[encoded data removed]",
      "text/plain": [
       "<Figure size 432x288 with 1 Axes>"
      ]
     },
     "metadata": {
      "needs_background": "light"
     },
     "output_type": "display_data"
    }
   ],
   "source": [
    "plt.plot(a,c)\n",
    "plt.xlabel('companies from 1 to 137')\n",
    "plt.ylabel('Close Price')\n",
    "plt.show()"
   ]
  },
  {
   "cell_type": "code",
   "execution_count": 73,
   "id": "3c89859d",
   "metadata": {
    "scrolled": true
   },
   "outputs": [],
   "source": [
    "#Companies that take profit and loss at different securities\n",
    "cgl\n",
    "index=['Nifty 50 sec Gain','Nifty 50 sec Loss','Nifty next 50 sec Gain','Nifty next 50 sec Loss','other securities Gain','other securities Loss']\n",
    "data = {'Securities':index,\n",
    "        'Companies':cgl}\n",
    "df1=pd.DataFrame(data)"
   ]
  },
  {
   "cell_type": "code",
   "execution_count": 74,
   "id": "9d7a6323",
   "metadata": {},
   "outputs": [
    {
     "data": {
      "text/html": [
       "<div>\n",
       "<style scoped>\n",
       "    .dataframe tbody tr th:only-of-type {\n",
       "        vertical-align: middle;\n",
       "    }\n",
       "\n",
       "    .dataframe tbody tr th {\n",
       "        vertical-align: top;\n",
       "    }\n",
       "\n",
       "    .dataframe thead th {\n",
       "        text-align: right;\n",
       "    }\n",
       "</style>\n",
       "<table border=\"1\" class=\"dataframe\">\n",
       "  <thead>\n",
       "    <tr style=\"text-align: right;\">\n",
       "      <th></th>\n",
       "      <th>Securities</th>\n",
       "      <th>Companies</th>\n",
       "    </tr>\n",
       "  </thead>\n",
       "  <tbody>\n",
       "    <tr>\n",
       "      <th>0</th>\n",
       "      <td>Nifty 50 sec Gain</td>\n",
       "      <td>30</td>\n",
       "    </tr>\n",
       "    <tr>\n",
       "      <th>1</th>\n",
       "      <td>Nifty 50 sec Loss</td>\n",
       "      <td>11</td>\n",
       "    </tr>\n",
       "    <tr>\n",
       "      <th>2</th>\n",
       "      <td>Nifty next 50 sec Gain</td>\n",
       "      <td>30</td>\n",
       "    </tr>\n",
       "    <tr>\n",
       "      <th>3</th>\n",
       "      <td>Nifty next 50 sec Loss</td>\n",
       "      <td>6</td>\n",
       "    </tr>\n",
       "    <tr>\n",
       "      <th>4</th>\n",
       "      <td>other securities Gain</td>\n",
       "      <td>30</td>\n",
       "    </tr>\n",
       "    <tr>\n",
       "      <th>5</th>\n",
       "      <td>other securities Loss</td>\n",
       "      <td>30</td>\n",
       "    </tr>\n",
       "  </tbody>\n",
       "</table>\n",
       "</div>"
      ],
      "text/plain": [
       "               Securities  Companies\n",
       "0       Nifty 50 sec Gain         30\n",
       "1       Nifty 50 sec Loss         11\n",
       "2  Nifty next 50 sec Gain         30\n",
       "3  Nifty next 50 sec Loss          6\n",
       "4   other securities Gain         30\n",
       "5   other securities Loss         30"
      ]
     },
     "execution_count": 74,
     "metadata": {},
     "output_type": "execute_result"
    }
   ],
   "source": [
    "df1"
   ]
  },
  {
   "cell_type": "code",
   "execution_count": 80,
   "id": "d1b1afce",
   "metadata": {},
   "outputs": [
    {
     "data": {
      "text/html": [
       "<div>\n",
       "<style scoped>\n",
       "    .dataframe tbody tr th:only-of-type {\n",
       "        vertical-align: middle;\n",
       "    }\n",
       "\n",
       "    .dataframe tbody tr th {\n",
       "        vertical-align: top;\n",
       "    }\n",
       "\n",
       "    .dataframe thead th {\n",
       "        text-align: right;\n",
       "    }\n",
       "</style>\n",
       "<table border=\"1\" class=\"dataframe\">\n",
       "  <thead>\n",
       "    <tr style=\"text-align: right;\">\n",
       "      <th></th>\n",
       "      <th>SECURITY</th>\n",
       "      <th>PREV_CL_PR</th>\n",
       "      <th>CLOSE_PRIC</th>\n",
       "      <th>NET_TRDQTY</th>\n",
       "      <th>NET_TRDVAL</th>\n",
       "    </tr>\n",
       "  </thead>\n",
       "  <tbody>\n",
       "    <tr>\n",
       "      <th>0</th>\n",
       "      <td>YES BANK LIMITED</td>\n",
       "      <td>17.45</td>\n",
       "      <td>19.60</td>\n",
       "      <td>553301260</td>\n",
       "      <td>10520111349</td>\n",
       "    </tr>\n",
       "    <tr>\n",
       "      <th>1</th>\n",
       "      <td>PUNJAB NATIONAL BANK</td>\n",
       "      <td>49.70</td>\n",
       "      <td>53.50</td>\n",
       "      <td>169993660</td>\n",
       "      <td>8901824026</td>\n",
       "    </tr>\n",
       "    <tr>\n",
       "      <th>2</th>\n",
       "      <td>KOTAK MAHINDRA BANK LTD</td>\n",
       "      <td>1821.95</td>\n",
       "      <td>1813.55</td>\n",
       "      <td>4746738</td>\n",
       "      <td>8573425068</td>\n",
       "    </tr>\n",
       "    <tr>\n",
       "      <th>3</th>\n",
       "      <td>ADANI ENTERPRISES LIMITED</td>\n",
       "      <td>3642.20</td>\n",
       "      <td>3716.75</td>\n",
       "      <td>2162662</td>\n",
       "      <td>8025704749</td>\n",
       "    </tr>\n",
       "    <tr>\n",
       "      <th>4</th>\n",
       "      <td>HDFC BANK LTD</td>\n",
       "      <td>1597.65</td>\n",
       "      <td>1629.45</td>\n",
       "      <td>4953661</td>\n",
       "      <td>8010532444</td>\n",
       "    </tr>\n",
       "  </tbody>\n",
       "</table>\n",
       "</div>"
      ],
      "text/plain": [
       "                    SECURITY  PREV_CL_PR  CLOSE_PRIC  NET_TRDQTY   NET_TRDVAL\n",
       "0           YES BANK LIMITED       17.45       19.60   553301260  10520111349\n",
       "1       PUNJAB NATIONAL BANK       49.70       53.50   169993660   8901824026\n",
       "2    KOTAK MAHINDRA BANK LTD     1821.95     1813.55     4746738   8573425068\n",
       "3  ADANI ENTERPRISES LIMITED     3642.20     3716.75     2162662   8025704749\n",
       "4              HDFC BANK LTD     1597.65     1629.45     4953661   8010532444"
      ]
     },
     "execution_count": 80,
     "metadata": {},
     "output_type": "execute_result"
    }
   ],
   "source": [
    "#list of top twenty five securities by traded value.\n",
    "df3=pd.read_csv(r\"C:\\Users\\Yatendra Singh\\Downloads\\PR261222\\Tt261222.csv\")\n",
    "df3.head()"
   ]
  },
  {
   "cell_type": "code",
   "execution_count": 83,
   "id": "a746e0e2",
   "metadata": {},
   "outputs": [
    {
     "data": {
      "image/png": "[encoded data removed]",
      "text/plain": [
       "<Figure size 432x288 with 1 Axes>"
      ]
     },
     "metadata": {
      "needs_background": "light"
     },
     "output_type": "display_data"
    }
   ],
   "source": [
    "plt.plot(df3['SECURITY'],df3['PREV_CL_PR'])\n",
    "plt.xlabel('companies from 1 to 25')\n",
    "plt.ylabel('PREV Close Price')\n",
    "plt.show()"
   ]
  },
  {
   "cell_type": "code",
   "execution_count": 92,
   "id": "5783d0ef",
   "metadata": {
    "scrolled": true
   },
   "outputs": [
    {
     "data": {
      "image/png": "[encoded data removed]",
      "text/plain": [
       "<Figure size 432x288 with 1 Axes>"
      ]
     },
     "metadata": {
      "needs_background": "light"
     },
     "output_type": "display_data"
    }
   ],
   "source": [
    "plt.plot(df3['SECURITY'],df3['CLOSE_PRIC'])\n",
    "plt.xlabel('companies from 1 to 25')\n",
    "plt.ylabel('Close Price')\n",
    "plt.show()"
   ]
  },
  {
   "cell_type": "code",
   "execution_count": 93,
   "id": "00f5a157",
   "metadata": {},
   "outputs": [
    {
     "data": {
      "text/html": [
       "<div>\n",
       "<style scoped>\n",
       "    .dataframe tbody tr th:only-of-type {\n",
       "        vertical-align: middle;\n",
       "    }\n",
       "\n",
       "    .dataframe tbody tr th {\n",
       "        vertical-align: top;\n",
       "    }\n",
       "\n",
       "    .dataframe thead th {\n",
       "        text-align: right;\n",
       "    }\n",
       "</style>\n",
       "<table border=\"1\" class=\"dataframe\">\n",
       "  <thead>\n",
       "    <tr style=\"text-align: right;\">\n",
       "      <th></th>\n",
       "      <th>MKT</th>\n",
       "      <th>SECURITY</th>\n",
       "      <th>PREV_CL_PR</th>\n",
       "      <th>OPEN_PRICE</th>\n",
       "      <th>HIGH_PRICE</th>\n",
       "      <th>LOW_PRICE</th>\n",
       "      <th>CLOSE_PRICE</th>\n",
       "      <th>NET_TRDVAL</th>\n",
       "      <th>NET_TRDQTY</th>\n",
       "      <th>IND_SEC</th>\n",
       "      <th>CORP_IND</th>\n",
       "      <th>TRADES</th>\n",
       "      <th>HI_52_WK</th>\n",
       "      <th>LO_52_WK</th>\n",
       "    </tr>\n",
       "  </thead>\n",
       "  <tbody>\n",
       "    <tr>\n",
       "      <th>0</th>\n",
       "      <td>Y</td>\n",
       "      <td>Nifty 50</td>\n",
       "      <td>17806.80</td>\n",
       "      <td>17830.40</td>\n",
       "      <td>18084.10</td>\n",
       "      <td>17774.25</td>\n",
       "      <td>18014.60</td>\n",
       "      <td>464869800751.63</td>\n",
       "      <td>4203905442</td>\n",
       "      <td>Y</td>\n",
       "      <td></td>\n",
       "      <td>19472213</td>\n",
       "      <td>18887.60</td>\n",
       "      <td>15183.40</td>\n",
       "    </tr>\n",
       "    <tr>\n",
       "      <th>1</th>\n",
       "      <td>Y</td>\n",
       "      <td>NIFTY50 EQL Wgt</td>\n",
       "      <td>20230.85</td>\n",
       "      <td>20255.40</td>\n",
       "      <td>20499.65</td>\n",
       "      <td>20172.45</td>\n",
       "      <td>20433.50</td>\n",
       "      <td>0</td>\n",
       "      <td>0</td>\n",
       "      <td>Y</td>\n",
       "      <td></td>\n",
       "      <td>0</td>\n",
       "      <td>.00</td>\n",
       "      <td>.00</td>\n",
       "    </tr>\n",
       "    <tr>\n",
       "      <th>2</th>\n",
       "      <td>Y</td>\n",
       "      <td>NIFTY100 EQL Wgt</td>\n",
       "      <td>20188.90</td>\n",
       "      <td>20208.60</td>\n",
       "      <td>20585.15</td>\n",
       "      <td>20091.65</td>\n",
       "      <td>20526.25</td>\n",
       "      <td>0</td>\n",
       "      <td>0</td>\n",
       "      <td>Y</td>\n",
       "      <td></td>\n",
       "      <td>0</td>\n",
       "      <td>.00</td>\n",
       "      <td>.00</td>\n",
       "    </tr>\n",
       "    <tr>\n",
       "      <th>3</th>\n",
       "      <td>Y</td>\n",
       "      <td>NIFTY100 LowVol30</td>\n",
       "      <td>13152.00</td>\n",
       "      <td>13147.70</td>\n",
       "      <td>13271.55</td>\n",
       "      <td>13110.70</td>\n",
       "      <td>13238.05</td>\n",
       "      <td>0</td>\n",
       "      <td>0</td>\n",
       "      <td>Y</td>\n",
       "      <td></td>\n",
       "      <td>0</td>\n",
       "      <td>.00</td>\n",
       "      <td>.00</td>\n",
       "    </tr>\n",
       "    <tr>\n",
       "      <th>4</th>\n",
       "      <td>Y</td>\n",
       "      <td>NIFTY Alpha 50</td>\n",
       "      <td>27860.05</td>\n",
       "      <td>27816.30</td>\n",
       "      <td>28909.30</td>\n",
       "      <td>27503.05</td>\n",
       "      <td>28823.35</td>\n",
       "      <td>0</td>\n",
       "      <td>0</td>\n",
       "      <td>Y</td>\n",
       "      <td></td>\n",
       "      <td>0</td>\n",
       "      <td>.00</td>\n",
       "      <td>.00</td>\n",
       "    </tr>\n",
       "    <tr>\n",
       "      <th>...</th>\n",
       "      <td>...</td>\n",
       "      <td>...</td>\n",
       "      <td>...</td>\n",
       "      <td>...</td>\n",
       "      <td>...</td>\n",
       "      <td>...</td>\n",
       "      <td>...</td>\n",
       "      <td>...</td>\n",
       "      <td>...</td>\n",
       "      <td>...</td>\n",
       "      <td>...</td>\n",
       "      <td>...</td>\n",
       "      <td>...</td>\n",
       "      <td>...</td>\n",
       "    </tr>\n",
       "    <tr>\n",
       "      <th>2449</th>\n",
       "      <td>N</td>\n",
       "      <td>UTIAMC - UTIBANKETF</td>\n",
       "      <td>41.93</td>\n",
       "      <td>42.38</td>\n",
       "      <td>43.19</td>\n",
       "      <td>42.01</td>\n",
       "      <td>42.99</td>\n",
       "      <td>607406.83</td>\n",
       "      <td>14230</td>\n",
       "      <td>N</td>\n",
       "      <td></td>\n",
       "      <td>353</td>\n",
       "      <td>48.40</td>\n",
       "      <td>31.99</td>\n",
       "    </tr>\n",
       "    <tr>\n",
       "      <th>2450</th>\n",
       "      <td>N</td>\n",
       "      <td>UTIAMC - UTINEXT50</td>\n",
       "      <td>42.89</td>\n",
       "      <td>42.50</td>\n",
       "      <td>44.19</td>\n",
       "      <td>42.50</td>\n",
       "      <td>43.88</td>\n",
       "      <td>1459811.90</td>\n",
       "      <td>33433</td>\n",
       "      <td>N</td>\n",
       "      <td></td>\n",
       "      <td>270</td>\n",
       "      <td>54.30</td>\n",
       "      <td>36.83</td>\n",
       "    </tr>\n",
       "    <tr>\n",
       "      <th>2451</th>\n",
       "      <td>N</td>\n",
       "      <td>UTIAMC - UTINIFTETF</td>\n",
       "      <td>1897.45</td>\n",
       "      <td>1909.95</td>\n",
       "      <td>1922.00</td>\n",
       "      <td>1897.67</td>\n",
       "      <td>1915.42</td>\n",
       "      <td>4356873.39</td>\n",
       "      <td>2279</td>\n",
       "      <td>N</td>\n",
       "      <td></td>\n",
       "      <td>126</td>\n",
       "      <td>2146.30</td>\n",
       "      <td>1600.00</td>\n",
       "    </tr>\n",
       "    <tr>\n",
       "      <th>2452</th>\n",
       "      <td>N</td>\n",
       "      <td>UTIAMC - UTISENSETF</td>\n",
       "      <td>637.46</td>\n",
       "      <td>641.97</td>\n",
       "      <td>644.23</td>\n",
       "      <td>630.30</td>\n",
       "      <td>640.86</td>\n",
       "      <td>1667059.42</td>\n",
       "      <td>2604</td>\n",
       "      <td>N</td>\n",
       "      <td></td>\n",
       "      <td>121</td>\n",
       "      <td>796.90</td>\n",
       "      <td>461.60</td>\n",
       "    </tr>\n",
       "    <tr>\n",
       "      <th>2453</th>\n",
       "      <td>N</td>\n",
       "      <td>UTIAMC - UTISXN50</td>\n",
       "      <td>49.91</td>\n",
       "      <td>50.02</td>\n",
       "      <td>50.95</td>\n",
       "      <td>48.80</td>\n",
       "      <td>50.80</td>\n",
       "      <td>30373.69</td>\n",
       "      <td>610</td>\n",
       "      <td>N</td>\n",
       "      <td></td>\n",
       "      <td>75</td>\n",
       "      <td>59.99</td>\n",
       "      <td>42.00</td>\n",
       "    </tr>\n",
       "  </tbody>\n",
       "</table>\n",
       "<p>2454 rows × 14 columns</p>\n",
       "</div>"
      ],
      "text/plain": [
       "     MKT             SECURITY     PREV_CL_PR     OPEN_PRICE     HIGH_PRICE  \\\n",
       "0      Y             Nifty 50       17806.80       17830.40       18084.10   \n",
       "1      Y      NIFTY50 EQL Wgt       20230.85       20255.40       20499.65   \n",
       "2      Y     NIFTY100 EQL Wgt       20188.90       20208.60       20585.15   \n",
       "3      Y    NIFTY100 LowVol30       13152.00       13147.70       13271.55   \n",
       "4      Y       NIFTY Alpha 50       27860.05       27816.30       28909.30   \n",
       "...   ..                  ...            ...            ...            ...   \n",
       "2449   N  UTIAMC - UTIBANKETF          41.93          42.38          43.19   \n",
       "2450   N   UTIAMC - UTINEXT50          42.89          42.50          44.19   \n",
       "2451   N  UTIAMC - UTINIFTETF        1897.45        1909.95        1922.00   \n",
       "2452   N  UTIAMC - UTISENSETF         637.46         641.97         644.23   \n",
       "2453   N    UTIAMC - UTISXN50          49.91          50.02          50.95   \n",
       "\n",
       "          LOW_PRICE    CLOSE_PRICE                    NET_TRDVAL  NET_TRDQTY  \\\n",
       "0          17774.25       18014.60               464869800751.63  4203905442   \n",
       "1          20172.45       20433.50                             0           0   \n",
       "2          20091.65       20526.25                             0           0   \n",
       "3          13110.70       13238.05                             0           0   \n",
       "4          27503.05       28823.35                             0           0   \n",
       "...             ...            ...                           ...         ...   \n",
       "2449          42.01          42.99                     607406.83       14230   \n",
       "2450          42.50          43.88                    1459811.90       33433   \n",
       "2451        1897.67        1915.42                    4356873.39        2279   \n",
       "2452         630.30         640.86                    1667059.42        2604   \n",
       "2453          48.80          50.80                      30373.69         610   \n",
       "\n",
       "     IND_SEC CORP_IND    TRADES       HI_52_WK       LO_52_WK  \n",
       "0          Y           19472213       18887.60       15183.40  \n",
       "1          Y                  0            .00            .00  \n",
       "2          Y                  0            .00            .00  \n",
       "3          Y                  0            .00            .00  \n",
       "4          Y                  0            .00            .00  \n",
       "...      ...      ...       ...            ...            ...  \n",
       "2449       N                353          48.40          31.99  \n",
       "2450       N                270          54.30          36.83  \n",
       "2451       N                126        2146.30        1600.00  \n",
       "2452       N                121         796.90         461.60  \n",
       "2453       N                 75          59.99          42.00  \n",
       "\n",
       "[2454 rows x 14 columns]"
      ]
     },
     "execution_count": 93,
     "metadata": {},
     "output_type": "execute_result"
    }
   ],
   "source": [
    "#Security wise market data information along with the Index details\n",
    "df4=pd.read_csv(r\"C:\\Users\\Yatendra Singh\\Downloads\\PR261222\\Pr261222.csv\",on_bad_lines='skip')\n",
    "df4"
   ]
  },
  {
   "cell_type": "code",
   "execution_count": 97,
   "id": "17c04b32",
   "metadata": {},
   "outputs": [
    {
     "data": {
      "image/png": "[encoded data removed]",
      "text/plain": [
       "<Figure size 432x288 with 1 Axes>"
      ]
     },
     "metadata": {
      "needs_background": "light"
     },
     "output_type": "display_data"
    }
   ],
   "source": [
    "#At different different securities market index that is Close price,Open Price,High Price Low Price\n",
    "plt.plot(df4['SECURITY'],df4['CLOSE_PRICE'])\n",
    "plt.xlabel('Securities')\n",
    "plt.ylabel('Close Price')\n",
    "plt.show()"
   ]
  },
  {
   "cell_type": "code",
   "execution_count": 101,
   "id": "834ac40d",
   "metadata": {},
   "outputs": [
    {
     "data": {
      "image/png": "[encoded data removed]",
      "text/plain": [
       "<Figure size 432x288 with 1 Axes>"
      ]
     },
     "metadata": {
      "needs_background": "light"
     },
     "output_type": "display_data"
    }
   ],
   "source": [
    "plt.plot(df4['SECURITY'],df4['PREV_CL_PR'])\n",
    "plt.xlabel('Securities')\n",
    "plt.ylabel('Prev Close Price')\n",
    "plt.show()"
   ]
  },
  {
   "cell_type": "code",
   "execution_count": 98,
   "id": "a3eee9ed",
   "metadata": {},
   "outputs": [
    {
     "data": {
      "image/png": "[encoded data removed]",
      "text/plain": [
       "<Figure size 432x288 with 1 Axes>"
      ]
     },
     "metadata": {
      "needs_background": "light"
     },
     "output_type": "display_data"
    }
   ],
   "source": [
    "plt.plot(df4['SECURITY'],df4['OPEN_PRICE'])\n",
    "plt.xlabel('Securities')\n",
    "plt.ylabel('Open Price')\n",
    "plt.show()"
   ]
  },
  {
   "cell_type": "code",
   "execution_count": 99,
   "id": "68a7e73d",
   "metadata": {},
   "outputs": [
    {
     "data": {
      "image/png": "[encoded data removed]",
      "text/plain": [
       "<Figure size 432x288 with 1 Axes>"
      ]
     },
     "metadata": {
      "needs_background": "light"
     },
     "output_type": "display_data"
    }
   ],
   "source": [
    "plt.plot(df4['SECURITY'],df4['HIGH_PRICE'])\n",
    "plt.xlabel('Securities')\n",
    "plt.ylabel('High Price')\n",
    "plt.show()"
   ]
  },
  {
   "cell_type": "code",
   "execution_count": 100,
   "id": "2c4cf612",
   "metadata": {},
   "outputs": [
    {
     "data": {
      "image/png": "[encoded data removed]",
      "text/plain": [
       "<Figure size 432x288 with 1 Axes>"
      ]
     },
     "metadata": {
      "needs_background": "light"
     },
     "output_type": "display_data"
    }
   ],
   "source": [
    "plt.plot(df4['SECURITY'],df4['LOW_PRICE'])\n",
    "plt.xlabel('Securities')\n",
    "plt.ylabel('Low Price')\n",
    "plt.show()"
   ]
  },
  {
   "cell_type": "code",
   "execution_count": 107,
   "id": "441e4907",
   "metadata": {},
   "outputs": [
    {
     "name": "stdout",
     "output_type": "stream",
     "text": [
      "2377\n",
      "2447\n"
     ]
    }
   ],
   "source": [
    "#Trades at different securities\n",
    "trades=0\n",
    "totaltrades=0;\n",
    "for i in df4['TRADES']:\n",
    "    if i>'0':\n",
    "        trades=trades+1\n",
    "        totaltrades=totaltrades+1\n",
    "    elif i>='0':\n",
    "        totaltrades=totaltrades+1\n",
    "        \n",
    "print(trades)\n",
    "print(totaltrades)"
   ]
  },
  {
   "cell_type": "code",
   "execution_count": 115,
   "id": "79bdc03e",
   "metadata": {},
   "outputs": [
    {
     "data": {
      "text/html": [
       "<div>\n",
       "<style scoped>\n",
       "    .dataframe tbody tr th:only-of-type {\n",
       "        vertical-align: middle;\n",
       "    }\n",
       "\n",
       "    .dataframe tbody tr th {\n",
       "        vertical-align: top;\n",
       "    }\n",
       "\n",
       "    .dataframe thead th {\n",
       "        text-align: right;\n",
       "    }\n",
       "</style>\n",
       "<table border=\"1\" class=\"dataframe\">\n",
       "  <thead>\n",
       "    <tr style=\"text-align: right;\">\n",
       "      <th></th>\n",
       "      <th>SECURITY</th>\n",
       "      <th>OPEN_PRICE</th>\n",
       "      <th>HIGH Price</th>\n",
       "    </tr>\n",
       "  </thead>\n",
       "  <tbody>\n",
       "    <tr>\n",
       "      <th>0</th>\n",
       "      <td>Nifty 50</td>\n",
       "      <td>17830.40</td>\n",
       "      <td>18084.10</td>\n",
       "    </tr>\n",
       "    <tr>\n",
       "      <th>1</th>\n",
       "      <td>NIFTY50 EQL Wgt</td>\n",
       "      <td>20255.40</td>\n",
       "      <td>20499.65</td>\n",
       "    </tr>\n",
       "    <tr>\n",
       "      <th>2</th>\n",
       "      <td>NIFTY100 EQL Wgt</td>\n",
       "      <td>20208.60</td>\n",
       "      <td>20585.15</td>\n",
       "    </tr>\n",
       "    <tr>\n",
       "      <th>3</th>\n",
       "      <td>NIFTY100 LowVol30</td>\n",
       "      <td>13147.70</td>\n",
       "      <td>13271.55</td>\n",
       "    </tr>\n",
       "    <tr>\n",
       "      <th>4</th>\n",
       "      <td>NIFTY Alpha 50</td>\n",
       "      <td>27816.30</td>\n",
       "      <td>28909.30</td>\n",
       "    </tr>\n",
       "    <tr>\n",
       "      <th>...</th>\n",
       "      <td>...</td>\n",
       "      <td>...</td>\n",
       "      <td>...</td>\n",
       "    </tr>\n",
       "    <tr>\n",
       "      <th>2449</th>\n",
       "      <td>UTIAMC - UTIBANKETF</td>\n",
       "      <td>42.38</td>\n",
       "      <td>43.19</td>\n",
       "    </tr>\n",
       "    <tr>\n",
       "      <th>2450</th>\n",
       "      <td>UTIAMC - UTINEXT50</td>\n",
       "      <td>42.50</td>\n",
       "      <td>44.19</td>\n",
       "    </tr>\n",
       "    <tr>\n",
       "      <th>2451</th>\n",
       "      <td>UTIAMC - UTINIFTETF</td>\n",
       "      <td>1909.95</td>\n",
       "      <td>1922.00</td>\n",
       "    </tr>\n",
       "    <tr>\n",
       "      <th>2452</th>\n",
       "      <td>UTIAMC - UTISENSETF</td>\n",
       "      <td>641.97</td>\n",
       "      <td>644.23</td>\n",
       "    </tr>\n",
       "    <tr>\n",
       "      <th>2453</th>\n",
       "      <td>UTIAMC - UTISXN50</td>\n",
       "      <td>50.02</td>\n",
       "      <td>50.95</td>\n",
       "    </tr>\n",
       "  </tbody>\n",
       "</table>\n",
       "<p>2454 rows × 3 columns</p>\n",
       "</div>"
      ],
      "text/plain": [
       "                 SECURITY     OPEN_PRICE     HIGH Price\n",
       "0                Nifty 50       17830.40       18084.10\n",
       "1         NIFTY50 EQL Wgt       20255.40       20499.65\n",
       "2        NIFTY100 EQL Wgt       20208.60       20585.15\n",
       "3       NIFTY100 LowVol30       13147.70       13271.55\n",
       "4          NIFTY Alpha 50       27816.30       28909.30\n",
       "...                   ...            ...            ...\n",
       "2449  UTIAMC - UTIBANKETF          42.38          43.19\n",
       "2450   UTIAMC - UTINEXT50          42.50          44.19\n",
       "2451  UTIAMC - UTINIFTETF        1909.95        1922.00\n",
       "2452  UTIAMC - UTISENSETF         641.97         644.23\n",
       "2453    UTIAMC - UTISXN50          50.02          50.95\n",
       "\n",
       "[2454 rows x 3 columns]"
      ]
     },
     "execution_count": 115,
     "metadata": {},
     "output_type": "execute_result"
    }
   ],
   "source": [
    "#Profit happen when the trading amount is between OPEN_PRICE to HIGH_PRICE\n",
    "data={'SECURITY':df4['SECURITY'],'OPEN_PRICE':df4['OPEN_PRICE'],'HIGH PRICE':df4['HIGH_PRICE']}\n",
    "profit=pd.DataFrame(data)\n",
    "profit                    "
   ]
  },
  {
   "cell_type": "code",
   "execution_count": 116,
   "id": "1bc0bda9",
   "metadata": {},
   "outputs": [
    {
     "data": {
      "text/html": [
       "<div>\n",
       "<style scoped>\n",
       "    .dataframe tbody tr th:only-of-type {\n",
       "        vertical-align: middle;\n",
       "    }\n",
       "\n",
       "    .dataframe tbody tr th {\n",
       "        vertical-align: top;\n",
       "    }\n",
       "\n",
       "    .dataframe thead th {\n",
       "        text-align: right;\n",
       "    }\n",
       "</style>\n",
       "<table border=\"1\" class=\"dataframe\">\n",
       "  <thead>\n",
       "    <tr style=\"text-align: right;\">\n",
       "      <th></th>\n",
       "      <th>SECURITY</th>\n",
       "      <th>OPEN_PRICE</th>\n",
       "      <th>LOW_PRICE</th>\n",
       "    </tr>\n",
       "  </thead>\n",
       "  <tbody>\n",
       "    <tr>\n",
       "      <th>0</th>\n",
       "      <td>Nifty 50</td>\n",
       "      <td>17830.40</td>\n",
       "      <td>17774.25</td>\n",
       "    </tr>\n",
       "    <tr>\n",
       "      <th>1</th>\n",
       "      <td>NIFTY50 EQL Wgt</td>\n",
       "      <td>20255.40</td>\n",
       "      <td>20172.45</td>\n",
       "    </tr>\n",
       "    <tr>\n",
       "      <th>2</th>\n",
       "      <td>NIFTY100 EQL Wgt</td>\n",
       "      <td>20208.60</td>\n",
       "      <td>20091.65</td>\n",
       "    </tr>\n",
       "    <tr>\n",
       "      <th>3</th>\n",
       "      <td>NIFTY100 LowVol30</td>\n",
       "      <td>13147.70</td>\n",
       "      <td>13110.70</td>\n",
       "    </tr>\n",
       "    <tr>\n",
       "      <th>4</th>\n",
       "      <td>NIFTY Alpha 50</td>\n",
       "      <td>27816.30</td>\n",
       "      <td>27503.05</td>\n",
       "    </tr>\n",
       "    <tr>\n",
       "      <th>...</th>\n",
       "      <td>...</td>\n",
       "      <td>...</td>\n",
       "      <td>...</td>\n",
       "    </tr>\n",
       "    <tr>\n",
       "      <th>2449</th>\n",
       "      <td>UTIAMC - UTIBANKETF</td>\n",
       "      <td>42.38</td>\n",
       "      <td>42.01</td>\n",
       "    </tr>\n",
       "    <tr>\n",
       "      <th>2450</th>\n",
       "      <td>UTIAMC - UTINEXT50</td>\n",
       "      <td>42.50</td>\n",
       "      <td>42.50</td>\n",
       "    </tr>\n",
       "    <tr>\n",
       "      <th>2451</th>\n",
       "      <td>UTIAMC - UTINIFTETF</td>\n",
       "      <td>1909.95</td>\n",
       "      <td>1897.67</td>\n",
       "    </tr>\n",
       "    <tr>\n",
       "      <th>2452</th>\n",
       "      <td>UTIAMC - UTISENSETF</td>\n",
       "      <td>641.97</td>\n",
       "      <td>630.30</td>\n",
       "    </tr>\n",
       "    <tr>\n",
       "      <th>2453</th>\n",
       "      <td>UTIAMC - UTISXN50</td>\n",
       "      <td>50.02</td>\n",
       "      <td>48.80</td>\n",
       "    </tr>\n",
       "  </tbody>\n",
       "</table>\n",
       "<p>2454 rows × 3 columns</p>\n",
       "</div>"
      ],
      "text/plain": [
       "                 SECURITY     OPEN_PRICE      LOW_PRICE\n",
       "0                Nifty 50       17830.40       17774.25\n",
       "1         NIFTY50 EQL Wgt       20255.40       20172.45\n",
       "2        NIFTY100 EQL Wgt       20208.60       20091.65\n",
       "3       NIFTY100 LowVol30       13147.70       13110.70\n",
       "4          NIFTY Alpha 50       27816.30       27503.05\n",
       "...                   ...            ...            ...\n",
       "2449  UTIAMC - UTIBANKETF          42.38          42.01\n",
       "2450   UTIAMC - UTINEXT50          42.50          42.50\n",
       "2451  UTIAMC - UTINIFTETF        1909.95        1897.67\n",
       "2452  UTIAMC - UTISENSETF         641.97         630.30\n",
       "2453    UTIAMC - UTISXN50          50.02          48.80\n",
       "\n",
       "[2454 rows x 3 columns]"
      ]
     },
     "execution_count": 116,
     "metadata": {},
     "output_type": "execute_result"
    }
   ],
   "source": [
    "#Loss happen when the trading amount is between OPEN_PRICE to LOW_PRICE\n",
    "data={'SECURITY':df4['SECURITY'],'OPEN_PRICE':df4['OPEN_PRICE'],'LOW_PRICE':df4['LOW_PRICE']}\n",
    "loss=pd.DataFrame(data)\n",
    "loss      "
   ]
  }
 ],
 "metadata": {
  "kernelspec": {
   "display_name": "Python 3 (ipykernel)",
   "language": "python",
   "name": "python3"
  },
  "language_info": {
   "codemirror_mode": {
    "name": "ipython",
    "version": 3
   },
   "file_extension": ".py",
   "mimetype": "text/x-python",
   "name": "python",
   "nbconvert_exporter": "python",
   "pygments_lexer": "ipython3",
   "version": "3.9.12"
  }
 },
 "nbformat": 4,
 "nbformat_minor": 5
}
